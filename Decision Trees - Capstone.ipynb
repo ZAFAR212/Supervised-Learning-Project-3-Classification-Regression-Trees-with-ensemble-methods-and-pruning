{
 "cells": [
  {
   "cell_type": "markdown",
   "id": "c1a60d78",
   "metadata": {},
   "source": [
    "## IMPORTANT NOTE FOR EXAMINER: This jupyter notebook was created using a tensorflow environment in anaconda. This did not run on the root environment as the root does not have tensorflow so i had to create a new environment since pip install tensorflow was not working."
   ]
  },
  {
   "cell_type": "code",
   "execution_count": 43,
   "id": "ddacb632",
   "metadata": {},
   "outputs": [],
   "source": [
    "# import libraries\n",
    "import pandas as pd\n",
    "import numpy as np\n",
    "import matplotlib.pyplot as plt\n",
    "import scipy.io\n",
    "from sklearn.ensemble import RandomForestClassifier\n",
    "from sklearn.preprocessing import LabelEncoder\n",
    "from sklearn.model_selection import train_test_split\n",
    "from sklearn.metrics import accuracy_score\n",
    "from sklearn.metrics import confusion_matrix\n",
    "from sklearn.metrics import f1_score, precision_score, recall_score\n",
    "\n",
    "from tensorflow import keras"
   ]
  },
  {
   "cell_type": "code",
   "execution_count": 2,
   "id": "38895c93",
   "metadata": {},
   "outputs": [],
   "source": [
    "# load the dataset\n",
    "(x_train, y_train), (x_test, y_test) = keras.datasets.mnist.load_data()"
   ]
  },
  {
   "cell_type": "code",
   "execution_count": 3,
   "id": "18a186bc",
   "metadata": {},
   "outputs": [
    {
     "name": "stdout",
     "output_type": "stream",
     "text": [
      "(60000, 28, 28)\n",
      "(60000,)\n",
      "(10000, 28, 28)\n",
      "(10000,)\n"
     ]
    }
   ],
   "source": [
    "# Understanding the shape of the dataset\n",
    "print(x_train.shape)\n",
    "print(y_train.shape)\n",
    "print(x_test.shape)\n",
    "print(y_test.shape)"
   ]
  },
  {
   "cell_type": "code",
   "execution_count": 4,
   "id": "7b34ce4f",
   "metadata": {},
   "outputs": [
    {
     "name": "stdout",
     "output_type": "stream",
     "text": [
      "uint8\n",
      "uint8\n",
      "uint8\n",
      "uint8\n"
     ]
    }
   ],
   "source": [
    "# Understanding the data types in the dataset\n",
    "print(x_train.dtype)\n",
    "print(y_train.dtype)\n",
    "print(x_test.dtype)\n",
    "print(y_test.dtype)"
   ]
  },
  {
   "cell_type": "markdown",
   "id": "6c9eb42b",
   "metadata": {},
   "source": [
    "Note that our x variable contains 3 dimensional array that contains the length and width of the image. Our response/dependent variable is a one dimensional array consisting only of the labels. To proceed we must convert our independent variable into 2d or 1d array.\n",
    "\n",
    "Secondly, note that the data type of all our variables is uint8. For machine learning models, it is best to convert the data type into integer or floats which helps with accuracy of the model predictions. In order to convert the categorical response variable into numeric/continuous data we need to encode the values."
   ]
  },
  {
   "cell_type": "code",
   "execution_count": 5,
   "id": "e48d4a22",
   "metadata": {},
   "outputs": [],
   "source": [
    "# Encode the target  variable\n",
    "le = LabelEncoder()\n",
    "y_train = le.fit_transform(y_train)\n",
    "\n",
    "le = LabelEncoder()\n",
    "y_test = le.fit_transform(y_test)"
   ]
  },
  {
   "cell_type": "code",
   "execution_count": 7,
   "id": "69d3fba7",
   "metadata": {},
   "outputs": [
    {
     "name": "stdout",
     "output_type": "stream",
     "text": [
      "The data type of our training response variable is int64\n",
      "The data type of our testing response variable is int64\n"
     ]
    }
   ],
   "source": [
    "print('The data type of our training response variable is',y_train.dtype)\n",
    "print('The data type of our testing response variable is',y_test.dtype)"
   ]
  },
  {
   "cell_type": "code",
   "execution_count": 8,
   "id": "732e1fc3",
   "metadata": {},
   "outputs": [
    {
     "data": {
      "text/plain": [
       "60000"
      ]
     },
     "execution_count": 8,
     "metadata": {},
     "output_type": "execute_result"
    }
   ],
   "source": [
    "x_train.shape[0]"
   ]
  },
  {
   "cell_type": "code",
   "execution_count": 9,
   "id": "a69aeffb",
   "metadata": {},
   "outputs": [],
   "source": [
    "# Reshape the training and testing independent variable into a 2D array\n",
    "x_train = x_train.reshape(x_train.shape[0],x_train.shape[1]*x_train.shape[2])\n",
    "x_test = x_test.reshape(x_test.shape[0],x_test.shape[1]*x_test.shape[2])\n"
   ]
  },
  {
   "cell_type": "markdown",
   "id": "4ce95f5b",
   "metadata": {},
   "source": [
    "The purpose of splitting data into training, testing and validation subsets is to ensure that the model is accurate. The training set is used to build a model whilst the development (testing) is used to help evaluate the model in order to prune decision/regression trees and a final validation testing subset of the data is used to test the predictive power of the model."
   ]
  },
  {
   "cell_type": "code",
   "execution_count": 10,
   "id": "461717a8",
   "metadata": {},
   "outputs": [
    {
     "name": "stdout",
     "output_type": "stream",
     "text": [
      "(48000, 784)\n",
      "(12000, 784)\n"
     ]
    }
   ],
   "source": [
    "# splitting our training data further to create training and development subsets of the data\n",
    "x_train, x_dev,y_train, y_dev = train_test_split(x_train,y_train,train_size = 0.8,random_state = 42)\n",
    "print(x_train.shape)\n",
    "print(x_dev.shape)"
   ]
  },
  {
   "cell_type": "code",
   "execution_count": 11,
   "id": "e68041c4",
   "metadata": {},
   "outputs": [
    {
     "data": {
      "image/png": "[encoded data removed]",
      "text/plain": [
       "<Figure size 2000x400 with 5 Axes>"
      ]
     },
     "metadata": {},
     "output_type": "display_data"
    }
   ],
   "source": [
    "#Preview some images\n",
    "plt.figure(figsize=(20,4))\n",
    "for index, (image, label) in enumerate(zip(x_train[0:5], y_train[0:5])):\n",
    "    plt.subplot(1, 5, index + 1)\n",
    "    plt.imshow(np.reshape(image, (28,28)), cmap=plt.cm.gray)\n",
    "    plt.title(f'Training: {label}', fontsize = 20)"
   ]
  },
  {
   "cell_type": "code",
   "execution_count": 12,
   "id": "50fb204b",
   "metadata": {},
   "outputs": [
    {
     "name": "stdout",
     "output_type": "stream",
     "text": [
      "Accuracy: 0.96725\n"
     ]
    }
   ],
   "source": [
    "# Random forest model for the mnist_dataset tested on the development dataset\n",
    "forest = RandomForestClassifier(n_estimators = 100)\n",
    "forest.fit(x_train,y_train)\n",
    "preds = forest.predict(x_dev)\n",
    "print(\"Accuracy:\", accuracy_score(y_dev,preds))"
   ]
  },
  {
   "cell_type": "markdown",
   "id": "9261e664",
   "metadata": {},
   "source": [
    "We will choose to fine tune the max_depth of the trees. This is because we know as the number of trees increases, the error rate will decrease so choosing a high value for this should suffice.\n",
    "\n",
    "We will instead fine tune the number of branches in each tree to make the predictions more accurate and avoid overfitting"
   ]
  },
  {
   "cell_type": "code",
   "execution_count": 16,
   "id": "aeed9df9",
   "metadata": {},
   "outputs": [
    {
     "name": "stdout",
     "output_type": "stream",
     "text": [
      "Max depth: 1\n",
      "score: 0.5340833333333334\n",
      "\n",
      "\n",
      "Max depth: 6\n",
      "score: 0.8890833333333333\n",
      "\n",
      "\n",
      "Max depth: 11\n",
      "score: 0.9515\n",
      "\n",
      "\n",
      "Max depth: 17\n",
      "score: 0.96675\n",
      "\n",
      "\n",
      "Max depth: 22\n",
      "score: 0.9664166666666667\n",
      "\n",
      "\n",
      "Max depth: 28\n",
      "score: 0.9694166666666667\n",
      "\n",
      "\n",
      "Max depth: 33\n",
      "score: 0.9676666666666667\n",
      "\n",
      "\n",
      "Max depth: 39\n",
      "score: 0.9691666666666666\n",
      "\n",
      "\n",
      "Max depth: 44\n",
      "score: 0.9678333333333333\n",
      "\n",
      "\n",
      "Max depth: 50\n",
      "score: 0.967\n",
      "\n",
      "\n"
     ]
    }
   ],
   "source": [
    "max_depth = [int(i) for i in np.linspace(start = 1, stop = 50, num = 10,endpoint = True)]\n",
    "train_results = []\n",
    "dev_results = []\n",
    "for i in max_depth:\n",
    "    rf = RandomForestClassifier(max_depth = i)\n",
    "    rf.fit(x_train,y_train)\n",
    "    score1 = rf.score(x_train,y_train)\n",
    "    train_results.append(score1)\n",
    "    score2 = rf.score(x_dev,y_dev)\n",
    "    dev_results.append(score2)\n",
    "    print('Max depth:', i)\n",
    "    print('score:', score2)\n",
    "    print('\\n')"
   ]
  },
  {
   "cell_type": "markdown",
   "id": "1d926a4b",
   "metadata": {},
   "source": [
    "Max_depth with the greatest accuracy is 44 so we use this value as our hyper parameter and rerun the model and then apply to the test data"
   ]
  },
  {
   "cell_type": "code",
   "execution_count": 37,
   "id": "c0dc043b",
   "metadata": {},
   "outputs": [],
   "source": [
    "# confusion matrix\n",
    "preds = forest.predict(x_dev)\n",
    "classes = list(set(y_train))\n",
    "conf_mat = confusion_matrix(y_dev, preds)\n",
    "cm_df = pd.DataFrame(conf_mat, columns=classes, index=classes)"
   ]
  },
  {
   "cell_type": "code",
   "execution_count": 38,
   "id": "4258d713",
   "metadata": {},
   "outputs": [
    {
     "data": {
      "text/html": [
       "<div>\n",
       "<style scoped>\n",
       "    .dataframe tbody tr th:only-of-type {\n",
       "        vertical-align: middle;\n",
       "    }\n",
       "\n",
       "    .dataframe tbody tr th {\n",
       "        vertical-align: top;\n",
       "    }\n",
       "\n",
       "    .dataframe thead th {\n",
       "        text-align: right;\n",
       "    }\n",
       "</style>\n",
       "<table border=\"1\" class=\"dataframe\">\n",
       "  <thead>\n",
       "    <tr style=\"text-align: right;\">\n",
       "      <th></th>\n",
       "      <th>0</th>\n",
       "      <th>1</th>\n",
       "      <th>2</th>\n",
       "      <th>3</th>\n",
       "      <th>4</th>\n",
       "      <th>5</th>\n",
       "      <th>6</th>\n",
       "      <th>7</th>\n",
       "      <th>8</th>\n",
       "      <th>9</th>\n",
       "    </tr>\n",
       "  </thead>\n",
       "  <tbody>\n",
       "    <tr>\n",
       "      <th>0</th>\n",
       "      <td>1160</td>\n",
       "      <td>0</td>\n",
       "      <td>1</td>\n",
       "      <td>0</td>\n",
       "      <td>4</td>\n",
       "      <td>2</td>\n",
       "      <td>2</td>\n",
       "      <td>0</td>\n",
       "      <td>6</td>\n",
       "      <td>0</td>\n",
       "    </tr>\n",
       "    <tr>\n",
       "      <th>1</th>\n",
       "      <td>0</td>\n",
       "      <td>1307</td>\n",
       "      <td>7</td>\n",
       "      <td>3</td>\n",
       "      <td>2</td>\n",
       "      <td>0</td>\n",
       "      <td>1</td>\n",
       "      <td>1</td>\n",
       "      <td>0</td>\n",
       "      <td>1</td>\n",
       "    </tr>\n",
       "    <tr>\n",
       "      <th>2</th>\n",
       "      <td>2</td>\n",
       "      <td>6</td>\n",
       "      <td>1140</td>\n",
       "      <td>4</td>\n",
       "      <td>3</td>\n",
       "      <td>0</td>\n",
       "      <td>3</td>\n",
       "      <td>8</td>\n",
       "      <td>7</td>\n",
       "      <td>1</td>\n",
       "    </tr>\n",
       "    <tr>\n",
       "      <th>3</th>\n",
       "      <td>3</td>\n",
       "      <td>0</td>\n",
       "      <td>17</td>\n",
       "      <td>1159</td>\n",
       "      <td>0</td>\n",
       "      <td>14</td>\n",
       "      <td>1</td>\n",
       "      <td>7</td>\n",
       "      <td>11</td>\n",
       "      <td>7</td>\n",
       "    </tr>\n",
       "    <tr>\n",
       "      <th>4</th>\n",
       "      <td>2</td>\n",
       "      <td>0</td>\n",
       "      <td>1</td>\n",
       "      <td>0</td>\n",
       "      <td>1143</td>\n",
       "      <td>0</td>\n",
       "      <td>4</td>\n",
       "      <td>5</td>\n",
       "      <td>0</td>\n",
       "      <td>21</td>\n",
       "    </tr>\n",
       "    <tr>\n",
       "      <th>5</th>\n",
       "      <td>6</td>\n",
       "      <td>4</td>\n",
       "      <td>2</td>\n",
       "      <td>11</td>\n",
       "      <td>2</td>\n",
       "      <td>1058</td>\n",
       "      <td>6</td>\n",
       "      <td>1</td>\n",
       "      <td>9</td>\n",
       "      <td>5</td>\n",
       "    </tr>\n",
       "    <tr>\n",
       "      <th>6</th>\n",
       "      <td>5</td>\n",
       "      <td>0</td>\n",
       "      <td>1</td>\n",
       "      <td>0</td>\n",
       "      <td>4</td>\n",
       "      <td>6</td>\n",
       "      <td>1157</td>\n",
       "      <td>0</td>\n",
       "      <td>4</td>\n",
       "      <td>0</td>\n",
       "    </tr>\n",
       "    <tr>\n",
       "      <th>7</th>\n",
       "      <td>1</td>\n",
       "      <td>11</td>\n",
       "      <td>16</td>\n",
       "      <td>2</td>\n",
       "      <td>8</td>\n",
       "      <td>0</td>\n",
       "      <td>0</td>\n",
       "      <td>1247</td>\n",
       "      <td>4</td>\n",
       "      <td>10</td>\n",
       "    </tr>\n",
       "    <tr>\n",
       "      <th>8</th>\n",
       "      <td>1</td>\n",
       "      <td>4</td>\n",
       "      <td>6</td>\n",
       "      <td>8</td>\n",
       "      <td>9</td>\n",
       "      <td>10</td>\n",
       "      <td>4</td>\n",
       "      <td>1</td>\n",
       "      <td>1114</td>\n",
       "      <td>3</td>\n",
       "    </tr>\n",
       "    <tr>\n",
       "      <th>9</th>\n",
       "      <td>6</td>\n",
       "      <td>2</td>\n",
       "      <td>4</td>\n",
       "      <td>8</td>\n",
       "      <td>17</td>\n",
       "      <td>6</td>\n",
       "      <td>2</td>\n",
       "      <td>14</td>\n",
       "      <td>5</td>\n",
       "      <td>1130</td>\n",
       "    </tr>\n",
       "  </tbody>\n",
       "</table>\n",
       "</div>"
      ],
      "text/plain": [
       "      0     1     2     3     4     5     6     7     8     9\n",
       "0  1160     0     1     0     4     2     2     0     6     0\n",
       "1     0  1307     7     3     2     0     1     1     0     1\n",
       "2     2     6  1140     4     3     0     3     8     7     1\n",
       "3     3     0    17  1159     0    14     1     7    11     7\n",
       "4     2     0     1     0  1143     0     4     5     0    21\n",
       "5     6     4     2    11     2  1058     6     1     9     5\n",
       "6     5     0     1     0     4     6  1157     0     4     0\n",
       "7     1    11    16     2     8     0     0  1247     4    10\n",
       "8     1     4     6     8     9    10     4     1  1114     3\n",
       "9     6     2     4     8    17     6     2    14     5  1130"
      ]
     },
     "execution_count": 38,
     "metadata": {},
     "output_type": "execute_result"
    }
   ],
   "source": [
    "cm_df"
   ]
  },
  {
   "cell_type": "markdown",
   "id": "fac2302a",
   "metadata": {},
   "source": [
    "According to the confusion matrix, the model struggles with predicting 5,8 and 9 the most as there is not a single zero in those rows"
   ]
  },
  {
   "cell_type": "code",
   "execution_count": 39,
   "id": "ac0dd158",
   "metadata": {},
   "outputs": [
    {
     "name": "stdout",
     "output_type": "stream",
     "text": [
      "The score on testing data with optimisted hyper-parameters is 0.9677.\n"
     ]
    }
   ],
   "source": [
    "# rerun models with these parameters\n",
    "forest = RandomForestClassifier(n_estimators=100,max_depth = 44, random_state = 7)\n",
    "forest.fit(x_train,y_train)\n",
    "y_pred = forest.predict(x_test)\n",
    "print(f\"The score on testing data with optimisted hyper-parameters is {forest.score(x_test,y_test)}.\")"
   ]
  },
  {
   "cell_type": "code",
   "execution_count": 44,
   "id": "64a26f68",
   "metadata": {},
   "outputs": [],
   "source": [
    "# Evaluation metrics\n",
    "f1_score_f = f1_score(y_test,y_pred, average='micro')\n",
    "precision_score_f = precision_score(y_test,y_pred, average='micro')\n",
    "recall_score_f = recall_score(y_test,y_pred, average='micro')"
   ]
  },
  {
   "cell_type": "code",
   "execution_count": 46,
   "id": "1649c5af",
   "metadata": {},
   "outputs": [
    {
     "name": "stdout",
     "output_type": "stream",
     "text": [
      "f1_score: 0.9677 \n",
      "precision_score: 0.9677 \n",
      "recall_score:0.9677\n"
     ]
    }
   ],
   "source": [
    "print(f'''f1_score: {f1_score_f} \\nprecision_score: {precision_score_f} \\nrecall_score:{recall_score_f}''')"
   ]
  }
 ],
 "metadata": {
  "kernelspec": {
   "display_name": "Python 3 (ipykernel)",
   "language": "python",
   "name": "python3"
  },
  "language_info": {
   "codemirror_mode": {
    "name": "ipython",
    "version": 3
   },
   "file_extension": ".py",
   "mimetype": "text/x-python",
   "name": "python",
   "nbconvert_exporter": "python",
   "pygments_lexer": "ipython3",
   "version": "3.10.9"
  }
 },
 "nbformat": 4,
 "nbformat_minor": 5
}
